{
 "cells": [
  {
   "cell_type": "markdown",
   "metadata": {},
   "source": [
    "# Conclusion"
   ]
  },
  {
   "cell_type": "markdown",
   "metadata": {},
   "source": [
    "This free course, *Particle physics*, provided an introduction to studying particle physics and introduced you to the physics that operates at the smallest scales of the Universe. \n",
    "\n",
    "Delving inside the atomic nucleus, you have seen that protons and neutrons are composed of fundamental particles called quarks. Although everything around you is made up of just first-generation quarks (up and down) and first-generation leptons (electrons and electron neutrinos), you have seen that there are six flavours of quark and six flavours of leptons in total. Finally, you have examined the strong and weak interactions which govern how these particles behave. \n",
    "\n",
    "* What you have learned about leptons, quarks and hadrons: There are six flavours of lepton, the lightest of which are the electron and electron neutrino; there are six flavours of quark, the lightest of which are the up and down quarks. All leptons and quarks have corresponding antiparticles with the same mass but opposite electric charge and colour charge (in the case of quarks). Combinations of three quarks are called baryons; combinations of three antiquarks are called antibaryons; combinations of a quark and an antiquark are called mesons. As examples, a proton has the quark composition ‘uud’; a neutron has the quark composition ‘udd’; pions are mesons composed of up and down quarks and antiquarks. \n",
    "\n",
    "* What you have learned about strong and weak interactions: The strong interaction binds quarks together inside nucleons, and binds nucleons together inside nuclei; all strong interactions involve gluons. Quarks and gluons each carry a colour charge; baryons, antibaryons and mesons are all colour-neutral.In strong interactions: energy, electric charge, colour charge and the number of quarks minus the number of antiquarks are all conserved. The weak interaction allows leptons and quarks to change flavour; all weak interactions, such as beta-decay, involve W or Z bosons. In weak interactions, energy, electric charge, the number of quarks minus the number of antiquarks, and the number of leptons minus the number of antileptons are all conserved. \n",
    "\n",
    "This OpenLearn course is an adapted extract from the Open University course [SM123 *Physics and space*](http://www.open.ac.uk/courses/modules/sm123). \n"
   ]
  }
 ],
 "metadata": {
  "jupytext": {
   "cell_metadata_filter": "-all",
   "main_language": "python",
   "notebook_metadata_filter": "-all",
   "text_representation": {
    "extension": ".md",
    "format_name": "markdown"
   }
  }
 },
 "nbformat": 4,
 "nbformat_minor": 4
}
