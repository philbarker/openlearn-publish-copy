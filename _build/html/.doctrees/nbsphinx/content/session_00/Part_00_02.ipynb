{
 "cells": [
  {
   "cell_type": "markdown",
   "metadata": {},
   "source": [
    "# 2  Leptons"
   ]
  },
  {
   "cell_type": "markdown",
   "metadata": {},
   "source": [
    "As it stands, the smallest known building blocks of matter showing no evidence of comprising of smaller or simpler constituents can be divided into two groups: leptons and quarks. First, let us tackle the former. There are six varieties of leptons. Perhaps the most familiar of these being electrons (e−) and electron neutrinos (νe). \n",
    "\n",
    "In 1936 and 1975, two more particles, with the same charge as the electron, only rather heavier, were discovered. The first is known as the __muon__ (represented by μ−; the Greek letter *mu*), which is about 200 times heavier than the electron. The second is called the __tauon__ (represented by τ−; the Greek letter *tau*), which is about 3500 times heavier than the electron. The superscript minus signs on the electron, muon and tauon indicate that these particles have negative electric charge. Muons and tauons are unstable, and rapidly decay into electrons and neutrinos in a fraction of a second. \n",
    "\n",
    "Like the electron, the muon and tauon each have an associated neutrino: the __muon neutrino__(νμ) and the __tauon neutrino__(ντ), each with zero electric charge. Particle physicists have not yet been able to measure the masses of neutrinos; all that is known is that the three types of neutrino have a combined mass that is several million times less than that of an electron, but not zero.\n",
    "\n",
    "These six fundamental particles are collectively referred to as leptons. (The word lepton comes from the Greek *leptos*, meaning ‘thin’ or ‘lightweight’.) The six different types are often referred to as different __flavours__ of lepton, and the three pairs of particles are often referred to as three __generations__ of leptons. \n",
    "<table xmlns:str=\"http://exslt.org/strings\">\n",
    "<caption>__Table 1__ Three generations of leptons </caption>\n",
    "<tbody>\n",
    "<tr>\n",
    "<th></th>\n",
    "<th>First generation</th>\n",
    "<th>Second generation</th>\n",
    "<th>Third generation</th>\n",
    "</tr>\n",
    "<tr>\n",
    "<td class=\"highlight_\" rowspan=\"\" colspan=\"\">Leptons with a charge *−e*</td>\n",
    "<td class=\"highlight_\" rowspan=\"\" colspan=\"\"> ![inlinefigure images/sm123_t06_p03_e_b.eps.jpg](../images/sm123_t06_p03_e_b.eps.jpg) </td>\n",
    "<td class=\"highlight_\" rowspan=\"\" colspan=\"\"> ![inlinefigure images/sm123_t06_p03_mu_b.eps.jpg](../images/sm123_t06_p03_mu_b.eps.jpg) </td>\n",
    "<td class=\"highlight_\" rowspan=\"\" colspan=\"\"> ![inlinefigure images/sm123_t06_p03_tau_b.eps.jpg](../images/sm123_t06_p03_tau_b.eps.jpg) </td>\n",
    "</tr>\n",
    "<tr>\n",
    "<td class=\"highlight_\" rowspan=\"\" colspan=\"\">Leptons with charge 0</td>\n",
    "<td class=\"highlight_\" rowspan=\"\" colspan=\"\"> ![inlinefigure images/sm123_t06_p03_nu_b.eps.png](../images/sm123_t06_p03_nu_b.eps.png) </td>\n",
    "<td class=\"highlight_\" rowspan=\"\" colspan=\"\"> ![inlinefigure images/sm123_t06_p03_nu_mu.eps.jpg](../images/sm123_t06_p03_nu_mu.eps.jpg) </td>\n",
    "<td class=\"highlight_\" rowspan=\"\" colspan=\"\"> ![inlinefigure images/sm123_t06_p03_nu_tau.eps.jpg](../images/sm123_t06_p03_nu_tau.eps.jpg) </td>\n",
    "</tr>\n",
    "</tbody>\n",
    "</table>\n",
    "\n",
    "To each lepton there corresponds an antilepton with opposite charge (if charged) but with the same mass. These __antimatter__ particles are denoted by the symbols e+, μ+ and τ+ for the charged leptons and ν¯e⁢, ν¯μ and ν¯τ for the neutral leptons. The antielectron is often referred to as a __positron__.\n"
   ]
  }
 ],
 "metadata": {
  "jupytext": {
   "cell_metadata_filter": "-all",
   "main_language": "python",
   "notebook_metadata_filter": "-all",
   "text_representation": {
    "extension": ".md",
    "format_name": "markdown"
   }
  }
 },
 "nbformat": 4,
 "nbformat_minor": 4
}
