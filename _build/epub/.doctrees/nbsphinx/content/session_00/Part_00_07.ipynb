{
 "cells": [
  {
   "cell_type": "markdown",
   "metadata": {},
   "source": [
    "# 7  Beta-decay at the level of quarks and leptons"
   ]
  },
  {
   "cell_type": "markdown",
   "metadata": {},
   "source": [
    "To conclude your exploration of the particle world, you will now examine more closely the radioactive processes in which particles change flavour, as this will lead you to the final type of fundamental interaction in which particles participate. \n",
    "\n",
    "A particular type of radioactivity is known as beta-decay, which occurs in three forms known as beta-minus decay, beta-plus decay and electron capture. In each form, protons convert into neutrons, or vice-versa. For instance, in beta-minus decay, one of the neutrons in a nucleus is converted into a proton in a process that may be written as: "
   ]
  },
  {
   "cell_type": "markdown",
   "metadata": {},
   "source": [
    "![A neutron is converted into a proton plus an electron and an electron antineutrino.](../images/sm123_t06_p03_6_1.eps.jpg)\n",
    "\n",
    "As a neutron has the quark composition (udd) and a proton has the quark composition (uud), at the level of individual quarks, a beta-minus decay must involve a down quark converting into an up quark as follows: "
   ]
  },
  {
   "cell_type": "markdown",
   "metadata": {},
   "source": [
    "![A down quark is converted into an up quark plus an electron and an electron antineutrino](../images/sm123_t06_p03_6_2.eps.jpg)\n",
    "\n",
    "This quark conversion therefore lies at the heart of all beta-minus decay processes. A quick check confirms that electric charge is conserved in this process. The charge on the left-hand side of the equation is −e3, while the sum of the charges of the particles on the right-hand side is +2e3−e+0=−e3 also. \n",
    "\n",
    "Following the example above, try to work out what quarks are involved in the conversions below:\n",
    "<!--ITQ-->\n",
    "\n",
    "#### Question\n",
    "\n",
    "In beta-plus decay, a proton is converted into a neutron with the emission of a positron and an electron neutrino:"
   ]
  },
  {
   "cell_type": "markdown",
   "metadata": {},
   "source": [
    "![A proton is converted into a neutron plus a positron and an electron neutrino](../images/sm123_t06_p03_6_3.eps.jpg)\n",
    "\n",
    "What is the quark conversion process that lies at the heart of beta-plus decay? Confirm that electric charge is conserved."
   ]
  },
  {
   "cell_type": "markdown",
   "metadata": {},
   "source": [
    "#### Answer\n",
    "\n",
    "At the level of individual quarks, this is: "
   ]
  },
  {
   "cell_type": "markdown",
   "metadata": {},
   "source": [
    "![An up quark is converted into a down quark plus a positron and an electron neutrino.](../images/sm123_t06_p03_6_4.eps.jpg)\n",
    "\n",
    "The electric charge on the left-hand side is +2e3 while that on the right-hand side is − e3+e+0=+2e3, as expected. \n",
    "<!--ENDITQ--><!--ITQ-->\n",
    "\n",
    "#### Question\n",
    "\n",
    "In electron capture, a proton is converted into a neutron when it captures an electron, and subsequently emits an electron neutrino: "
   ]
  },
  {
   "cell_type": "markdown",
   "metadata": {},
   "source": [
    "![A proton plus an electron is converted into a neutron and an electron neutrino](../images/sm123_t06_p03_6_5.eps.jpg)\n",
    "\n",
    "Write down the quark conversion process that lies at the heart of electron capture. Confirm that electric charge is conserved."
   ]
  },
  {
   "cell_type": "markdown",
   "metadata": {},
   "source": [
    "#### Answer\n",
    "\n",
    "At the level of individual quarks, this is: "
   ]
  },
  {
   "cell_type": "markdown",
   "metadata": {},
   "source": [
    "![An up quark plus an electron is converted into a down quark and an electron neutrino](../images/sm123_t06_p03_6_6.eps.jpg)\n",
    "\n",
    "The electric charge on the left hand side is +2e3−e=−e3, while that on the right hand side is −e3+0=−e3 as expected.\n",
    "<!--ENDITQ-->\n",
    "To end this course, you will consider the explanation for these flavour-changing reactions in terms of the final fundamental interaction found in nature, known as the weak interaction. \n"
   ]
  }
 ],
 "metadata": {
  "jupytext": {
   "cell_metadata_filter": "-all",
   "main_language": "python",
   "notebook_metadata_filter": "-all",
   "text_representation": {
    "extension": ".md",
    "format_name": "markdown"
   }
  }
 },
 "nbformat": 4,
 "nbformat_minor": 4
}
