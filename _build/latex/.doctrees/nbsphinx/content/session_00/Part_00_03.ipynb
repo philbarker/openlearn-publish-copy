{
 "cells": [
  {
   "cell_type": "markdown",
   "metadata": {},
   "source": [
    "# 3  Quarks"
   ]
  },
  {
   "cell_type": "markdown",
   "metadata": {},
   "source": [
    "The other group of fundamental particles which was introduced in the previous section are the quarks (nope, it’s not just a tasty cheese!). In 1964, two independent researchers were working on theories to explain strong interaction symmetry in particle physics. These were Murray Gell-Mann and George Zweig. These scientists proposed that the properties of hadrons (more on these in the next section) could be explained if they were composed of smaller constituents. What is known now to be quarks!"
   ]
  },
  {
   "cell_type": "markdown",
   "metadata": {},
   "source": [
    "![figure images/sm123_1_figure1_murray_george.tif.jpg](../images/sm123_1_figure1_murray_george.tif.jpg)"
   ]
  },
  {
   "cell_type": "markdown",
   "metadata": {},
   "source": [
    "Figure 1 Murray Gell-Mann (left) and George Zweig (right)."
   ]
  },
  {
   "cell_type": "markdown",
   "metadata": {},
   "source": [
    "Like the leptons, there are also, handily, 6 varieties of these. They are known as the six flavours of quarks, labelled by the letters u, d, c, s, t and b, which stand for __up__, __down__, __charm__, __strange__, __top__ and __bottom__. The up, charm and top quarks each carry a positive charge of +23e, while the down, strange and bottom quarks each carry a negative charge of −13e. \n",
    "\n",
    "Like the leptons, the six quarks are often grouped into three generations on the basis of their mass, with the first generation being the least massive. To each quark, there corresponds an antiquark, with the opposite charge and the same mass. These are denoted by the symbols u¯, d¯, c¯, s¯, t¯ and b¯. So anti-up, anti-charm and anti-top antiquarks each carry a negative charge of −23e, while anti-down, anti-strange and anti-bottom antiquarks each carry a positive charge of +13. \n",
    "<table xmlns:str=\"http://exslt.org/strings\">\n",
    "<caption>__Table 2__ Three generations of quarks </caption>\n",
    "<tbody>\n",
    "<tr>\n",
    "<th></th>\n",
    "<th>1st generation</th>\n",
    "<th>2nd generation</th>\n",
    "<th>3rd generation</th>\n",
    "</tr>\n",
    "<tr>\n",
    "<td class=\"highlight_\" rowspan=\"\" colspan=\"\">Quarks with charge +23e</td>\n",
    "<td class=\"highlight_\" rowspan=\"\" colspan=\"\"> ![inlinefigure images/sm123_t06_p03_u.eps.jpg](../images/sm123_t06_p03_u.eps.jpg) </td>\n",
    "<td class=\"highlight_\" rowspan=\"\" colspan=\"\"> ![inlinefigure images/sm123_t06_p03_c.eps.jpg](../images/sm123_t06_p03_c.eps.jpg) </td>\n",
    "<td class=\"highlight_\" rowspan=\"\" colspan=\"\"> ![inlinefigure images/sm123_t06_p03_t.eps.jpg](../images/sm123_t06_p03_t.eps.jpg) </td>\n",
    "</tr>\n",
    "<tr>\n",
    "<td class=\"highlight_\" rowspan=\"\" colspan=\"\">Quarks with charge −13e</td>\n",
    "<td class=\"highlight_\" rowspan=\"\" colspan=\"\"> ![inlinefigure images/sm123_t06_p03_d.eps.jpg](../images/sm123_t06_p03_d.eps.jpg) </td>\n",
    "<td class=\"highlight_\" rowspan=\"\" colspan=\"\"> ![inlinefigure images/sm123_t06_p03_s.eps.jpg](../images/sm123_t06_p03_s.eps.jpg) </td>\n",
    "<td class=\"highlight_\" rowspan=\"\" colspan=\"\"> ![inlinefigure images/sm123_t06_p03_b.eps.jpg](../images/sm123_t06_p03_b.eps.jpg) </td>\n",
    "</tr>\n",
    "</tbody>\n",
    "</table>\n",
    "\n",
    "Of all the quarks, the up and down are the least massive of the flavours. The charm and strange quarks and antiquarks are more massive than the up and down quarks, and the top and bottom quarks and antiquarks are yet more massive still. \n"
   ]
  }
 ],
 "metadata": {
  "jupytext": {
   "cell_metadata_filter": "-all",
   "main_language": "python",
   "notebook_metadata_filter": "-all",
   "text_representation": {
    "extension": ".md",
    "format_name": "markdown"
   }
  }
 },
 "nbformat": 4,
 "nbformat_minor": 4
}
