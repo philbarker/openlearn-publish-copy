{
 "cells": [
  {
   "cell_type": "markdown",
   "metadata": {},
   "source": [
    "# 1. Introduction\n"
   ]
  },
  {
   "cell_type": "markdown",
   "metadata": {},
   "source": [
    "## 1 1 The global dimension in science – why?\n"
   ]
  },
  {
   "cell_type": "markdown",
   "metadata": {},
   "source": [
    "---\n",
    "\n",
    "1.1 1 Why include a global dimension in science education?\n",
    "<!--Quote id=quo001_001-->\n",
    ">Western science drew on a world heritage, on the basis of sharing ideas.\n",
    ">Sen (2002)"
   ]
  },
  {
   "cell_type": "markdown",
   "metadata": {},
   "source": [
    "<!--Quote id=quo001_002-->\n",
    ">The global dimension refers to approaches to education … which focus on global issues, events and interdependence. … pupils will develop … an understanding of different cultural and political perspectives, as well as knowledge of global matters.\n",
    ">ASE Global (2003)"
   ]
  },
  {
   "cell_type": "markdown",
   "metadata": {},
   "source": [
    "We start by exploring some of the reasons why we should adopt a global approach in science education."
   ]
  },
  {
   "cell_type": "markdown",
   "metadata": {},
   "source": [
    "### Activity 1"
   ]
  },
  {
   "cell_type": "markdown",
   "metadata": {},
   "source": [
    "#### Question\n",
    "\n",
    "Read 'Reasons for teaching the global dimension in science' by clicking on the 'view document' link below."
   ]
  },
  {
   "cell_type": "markdown",
   "metadata": {},
   "source": [
    "---"
   ]
  },
  {
   "cell_type": "markdown",
   "metadata": {},
   "source": [
    "View document"
   ]
  },
  {
   "cell_type": "markdown",
   "metadata": {},
   "source": [
    "---"
   ]
  },
  {
   "cell_type": "markdown",
   "metadata": {},
   "source": [
    "Note any statements with which you disagree and any statements you think should be added, then arrange the reasons in order of their importance. Of course, there is no one ‘right answer’ here.\n",
    "\n",
    "Next, listen to the audio clip of part of a conversation with an Oxfordshire teacher, below. Note the reasons given for including a global dimension in science. Discuss which reasons are most important in your own context.\n",
    "\n",
    "Click play to listen to the audio file\n",
    "<!--MEDIACONTENT-->\n",
    "\n",
    "Audio 1\n",
    "\n",
    "<!--TRANSCRIPT--><table xmlns:str=\"http://exslt.org/strings\" border=\"1\"><tr><td>\n",
    "__Teacher:__ *I work in a rural school in the outskirts of Oxfordshire which is predominantly non-black ? sort of speakers, pretty much 90 to 99 per cent white. Its eleven to eighteen mixed comparison school.*;\n",
    "\n",
    "__Q:__ *Ok, right then I just want you to say who you are?*;\n",
    "\n",
    "__T:__ *I’m a British Asian Muslim I have trained here at the department of education here at Oxford and I have been teaching now for three years with the special needs in Physics.*;\n",
    "\n",
    "__Q:__ *OK, so now I am going to ask you why you think…. Next what I would like to ask you is why you feel a global perspective is important in science teaching?*;\n",
    "\n",
    "__T:__ *Yes, the way I do this to answer this question is something that I have done with two classes at Wellingford. The listeners can do this while I run it through, I get the class and I ask them to think of a famous scientist. Few hands pop up, and then I tell them ‘think of a white male scientist’. A couple of kids put their hands up, classic ones come up, Einstein for example or Newton, now try and think of a white female scientist and with one class one girl did put her hand up but that was after a good three or four minutes and then I moved it on to think of an African scientist, no hands came up, think of an Asian scientist no hands came up.*;\n",
    "*Then I sort of opened the doors and I said any non-European scientist that you think have made a major contribution in scientific advancement and most people can’t go further really than the white male. And so the whole question ‘why does it matter?’ is an important question and there seems to be a lack of appreciation of the contributions made by non-white scientists. In fact take yourself for example, if your efforts were unnoticed or they were simply high- jacked by another person and you’d shout injustice and I’m sure you’d shout injustice.*;\n",
    "*Europeans didn’t have the monopoly for scientific discoveries but you can’t be blamed for thinking that. Given the fact many predominantly white schools may have unaddressed racist attitudes, for example, there is a good book written by Chris Henge on this topic called ‘some of the problems ? doubt?’ so science can provide a brilliant opportunity for teachers to address such attitudes and misconceptions towards other races and creeds.*;\n",
    "*Its important to value the contributions I feel of non-white and white scientists in order to help give a more positive view to students from that particular minority, ethnic minority group and the contributions of their own culture. But also more importantly to white students who may feel that human advancement has been spearheaded by white male western scientists. The Eurocentric assumption must be challenged.*;\n",
    "</td></tr></table><!--ENDTRANSCRIPT--><!--ENDMEDIACONTENT-->\n",
    "Having considered *why* the global dimension in science is so important, I shall now look at *how* to incorporate it in science lessons. Amartya Sen, winner of the 1998 Nobel Prize for Economics, raises some challenging questions for science educators.\n",
    "\n",
    "* \n",
    "What contributions to science have been made by those outside the ‘Western world’?"
   ]
  },
  {
   "cell_type": "markdown",
   "metadata": {},
   "source": [
    "* \n",
    "Why should school science reflect the subject's diverse roots?"
   ]
  },
  {
   "cell_type": "markdown",
   "metadata": {},
   "source": [
    "* \n",
    "How can you bring contemporary international science alive for your students?"
   ]
  },
  {
   "cell_type": "markdown",
   "metadata": {},
   "source": [
    "* \n",
    "Can learning science from a global perspective motivate students and so raise achievement?"
   ]
  },
  {
   "cell_type": "markdown",
   "metadata": {},
   "source": [
    "Through exploring these vital questions, I hope you will gain the motivation and confidence to incorporate the global dimension in the work of your science department.\n",
    "\n"
   ]
  },
  {
   "cell_type": "markdown",
   "metadata": {},
   "source": [
    "## 1.2 Outside the ‘Western World’\n"
   ]
  },
  {
   "cell_type": "markdown",
   "metadata": {},
   "source": [
    "---\n",
    "\n",
    "1.2.1 Science throughout history: a case of attribution?\n",
    "Much of the science we now take for granted was first done by scientists outside today's industrialised nations. For example, Arabic medicine was in advance of European medicine throughout the Middle Ages, and from Salerno (the first recorded medical school, founded in the 10<sup xmlns:str=\"http://exslt.org/strings\">th</sup> century), to Vesalius (the first person to publish a book of human anatomy, in 1543), Western doctors learned from their Muslim counterparts.\n",
    "\n",
    "Activity 2 gives an opportunity to learn more about some of the vital contributions made to science by those outside the ‘Western World’. Please attempt this now."
   ]
  },
  {
   "cell_type": "markdown",
   "metadata": {},
   "source": [
    "### Activity 2"
   ]
  },
  {
   "cell_type": "markdown",
   "metadata": {},
   "source": [
    "#### Question\n",
    "\n",
    "Click ‘view document’ to open the 'Match the discovery to the place' activity."
   ]
  },
  {
   "cell_type": "markdown",
   "metadata": {},
   "source": [
    "---"
   ]
  },
  {
   "cell_type": "markdown",
   "metadata": {},
   "source": [
    "View document"
   ]
  },
  {
   "cell_type": "markdown",
   "metadata": {},
   "source": [
    "---"
   ]
  },
  {
   "cell_type": "markdown",
   "metadata": {},
   "source": [
    "* \n",
    "Do the ‘Match the discovery to the place’ quiz – click ‘view document’ above to read the quiz. The answer sheet makes an interesting wall display if cut up and displayed with a world map."
   ]
  },
  {
   "cell_type": "markdown",
   "metadata": {},
   "source": [
    "Click \"view document\" to see the answers."
   ]
  },
  {
   "cell_type": "markdown",
   "metadata": {},
   "source": [
    "---"
   ]
  },
  {
   "cell_type": "markdown",
   "metadata": {},
   "source": [
    "View document"
   ]
  },
  {
   "cell_type": "markdown",
   "metadata": {},
   "source": [
    "---"
   ]
  },
  {
   "cell_type": "markdown",
   "metadata": {},
   "source": [
    "* \n",
    "Go to the Association for Science Education's website. Select ‘ASE Global’ from the tabbed menu at the top of the page, then ‘Global Dimension’ and click on ‘Hot Issues’. Choose an article about a contemporary scientific development that interests you, ideally one involving scientists from outside Europe or North America. Prepare a short talk to tell colleagues about it.\n",
    "\n"
   ]
  },
  {
   "cell_type": "markdown",
   "metadata": {},
   "source": [
    "Next, examine activities that deliver the curriculum by introducing students to the exciting work of some non-Western scientists.\n",
    "\n",
    "Some discoveries commonly attributed to modern scientists may have roots further back in history than commonly believed. For example, there is evidence that the Chinese Yellow Emperor discovered the circulation of blood in human bodies 2200 years ago, well before William Harvey.\n",
    "\n",
    "To find out more about historical non-Western contributions to science try the following sources.\n",
    "\n",
    "The homepage of educationalist Xiufeng Liu. Scroll down to and click on ‘Multi-Cultural Science Education’ and then click on ‘Ethnic Scientists’.\n",
    "\n",
    "University of Princeton website. Click the button for seraching the Web then in ‘Search’, type ‘Faces of Science’. Click on the first result, ‘The Faces of Science: African Americans in the Sciences’.\n",
    "\n",
    "Reiss, M. J. (1993) *Science Education for a Pluralist Society*, Milton Keynes, Open University Press (ISBN 0335157602).\n",
    "\n",
    "Hill, D. (1994) *Islamic Science and Engineering (Islamic Surveys*), Edinburgh, Edinburgh University Press (ISBN 0748604553).\n",
    "\n",
    "For contemporary stories of worldwide scientific endeavour, the *New Scientist* online is an excellent starting point."
   ]
  },
  {
   "cell_type": "markdown",
   "metadata": {},
   "source": [
    "## 1.3 In the classroom\n"
   ]
  },
  {
   "cell_type": "markdown",
   "metadata": {},
   "source": [
    "---\n",
    "\n",
    "1.3.1 Teaching global science\n",
    "Science draws on a rich cultural heritage and continues to be a global endeavour. How can you bring global science to life for your students?\n",
    "\n",
    "Activity 3 will help to bring a global perspective to your science curriculum.\n",
    "\n",
    "Click \"view document\" to open 'Investigating Housing in Saudi Arabia'."
   ]
  },
  {
   "cell_type": "markdown",
   "metadata": {},
   "source": [
    "---"
   ]
  },
  {
   "cell_type": "markdown",
   "metadata": {},
   "source": [
    "View document"
   ]
  },
  {
   "cell_type": "markdown",
   "metadata": {},
   "source": [
    "---"
   ]
  },
  {
   "cell_type": "markdown",
   "metadata": {},
   "source": [
    "Click \"view document\" to open 'How can a mobile phone kill a gorilla …'."
   ]
  },
  {
   "cell_type": "markdown",
   "metadata": {},
   "source": [
    "---"
   ]
  },
  {
   "cell_type": "markdown",
   "metadata": {},
   "source": [
    "View document"
   ]
  },
  {
   "cell_type": "markdown",
   "metadata": {},
   "source": [
    "---"
   ]
  },
  {
   "cell_type": "markdown",
   "metadata": {},
   "source": [
    "Click \"view document\" to open 'Iron Technology'."
   ]
  },
  {
   "cell_type": "markdown",
   "metadata": {},
   "source": [
    "---"
   ]
  },
  {
   "cell_type": "markdown",
   "metadata": {},
   "source": [
    "View document"
   ]
  },
  {
   "cell_type": "markdown",
   "metadata": {},
   "source": [
    "---"
   ]
  },
  {
   "cell_type": "markdown",
   "metadata": {},
   "source": [
    "Click \"view document\" to open 'Why Communicate?'."
   ]
  },
  {
   "cell_type": "markdown",
   "metadata": {},
   "source": [
    "---"
   ]
  },
  {
   "cell_type": "markdown",
   "metadata": {},
   "source": [
    "View document"
   ]
  },
  {
   "cell_type": "markdown",
   "metadata": {},
   "source": [
    "---"
   ]
  },
  {
   "cell_type": "markdown",
   "metadata": {},
   "source": [
    "Click this link to go to Science Across the World."
   ]
  },
  {
   "cell_type": "markdown",
   "metadata": {},
   "source": [
    "### Activity 3"
   ]
  },
  {
   "cell_type": "markdown",
   "metadata": {},
   "source": [
    "#### Question\n",
    "\n",
    "In this activity you look at and test ready-to-use classroom activities that bring a global perspective to the science curriculum.\n",
    "\n",
    "First, choose three activities from the resources above. These include articles on housing in Saudi Arabia, the effect of obtaining resources required for mobile phone manufacture on gorilla habitats, iron technology in Tanzania and Scotland, and satellites communications.\n",
    "\n",
    "The web link given above is to the Science Across the World site, where there is information on acid rain. Under ‘Most Popular Topics’ click on ‘See all available topics’; and then ‘Acid Rain’.\n",
    "\n",
    "For each of the three resources you select:\n",
    "\n",
    "* \n",
    "identify which aspect of the curriculum it delivers and for which students it might be appropriate;"
   ]
  },
  {
   "cell_type": "markdown",
   "metadata": {},
   "source": [
    "* \n",
    "try it out with colleagues (if you want to!);"
   ]
  },
  {
   "cell_type": "markdown",
   "metadata": {},
   "source": [
    "* \n",
    "identify aspects of the activity you particularly like;"
   ]
  },
  {
   "cell_type": "markdown",
   "metadata": {},
   "source": [
    "* \n",
    "consider whether the activity has any shortcomings."
   ]
  },
  {
   "cell_type": "markdown",
   "metadata": {},
   "source": [
    "Next, select one of the three activities you chose above to try out in your classroom, making any changes you think necessary. Use the activity as part of a lesson. Evaluate the effectiveness of the activity by reflecting on the lesson, talking to pupils and assessing their work. Did the activities motivate students? Share your experiences with colleagues.\n"
   ]
  },
  {
   "cell_type": "markdown",
   "metadata": {},
   "source": [
    "The UPD8 resource site contains numerous activities for secondary school pupils. Click on Topics in the top navigation bar to see the list of activities and choose one or two which are relevant to your classes. (You will need to join UPD8 to download activities.)"
   ]
  },
  {
   "cell_type": "markdown",
   "metadata": {},
   "source": [
    "---\n",
    "\n",
    "1.3.2 Exploring other activities\n",
    "After trying Activity 3 you may want to explore some of the other resources given or even develop your own, in which case the Global Dimension section of the ASE site or the *New Scientist* online may be helpful starting points.\n",
    "\n",
    "One way of bringing global science into the classroom is by using ‘off-the-shelf’ activities that:\n",
    "\n",
    "* \n",
    "exemplify curriculum content – for example, iron was extracted from its ore in a precursor of the blast furnace 2000 years ago in Tanzania;"
   ]
  },
  {
   "cell_type": "markdown",
   "metadata": {},
   "source": [
    "* \n",
    "extend curriculum content – for example, when studying fuels, consider the work of United Arab Emirates’ scientists who are developing fuels for diesel engines from jojoba plant oil (go to http://www.planet-science.com, select Sci-Teach, then scroll down, click on 'hot topics' and find on the map the University of the United Arab Emirates);"
   ]
  },
  {
   "cell_type": "markdown",
   "metadata": {},
   "source": [
    "* \n",
    "help to deliver ‘Ideas and Evidence’ ;"
   ]
  },
  {
   "cell_type": "markdown",
   "metadata": {},
   "source": [
    "* \n",
    "provide new contexts for scientific enquiry, such as designing a fair test to test a new HIV/AIDS vaccine."
   ]
  },
  {
   "cell_type": "markdown",
   "metadata": {},
   "source": [
    "Of course, it is vital to avoid perpetuating negative cultural and racial stereotypes. For advice on this, please see TeachGlobal under ‘Courses B and E’."
   ]
  },
  {
   "cell_type": "markdown",
   "metadata": {},
   "source": [
    "## 1.4 Global approaches\n"
   ]
  },
  {
   "cell_type": "markdown",
   "metadata": {},
   "source": [
    "---\n",
    "\n",
    "1.4.1 Global science in the classroom\n",
    "<!--Quote id=quo001_003-->\n",
    ">Other cultures have had flourishing examples of science that should be much more widely known by pupils… Pupils can be helped to see that science is a cultural activity, and it is inevitably the case that different cultures produce different sciences.\n",
    ">Reiss (2000) p. 17"
   ]
  },
  {
   "cell_type": "markdown",
   "metadata": {},
   "source": [
    "There are many ways of helping students appreciate that science is a global pursuit.\n",
    "\n",
    "In Activity 4 you are asked to consider a variety of ways of incorporating the global dimension in the work of your department."
   ]
  },
  {
   "cell_type": "markdown",
   "metadata": {},
   "source": [
    "### Activity 4"
   ]
  },
  {
   "cell_type": "markdown",
   "metadata": {},
   "source": [
    "#### Question\n",
    "\n",
    "Listen to the audio clip below in which a teacher from Oxfordshire continues his conversation and tells of the ways his department is planning to incorporate a global dimension into science lessons.\n",
    "<!--MEDIACONTENT-->\n",
    "\n",
    "Audio 2\n",
    "\n",
    "<!--TRANSCRIPT--><table xmlns:str=\"http://exslt.org/strings\" border=\"1\"><tr><td>\n",
    "__Q:__ *So, I know that you are doing a project now within your own school trying to introduce some of these ideas into your day-to-day classroom teaching so can you talk a little bit about that?*;\n",
    "\n",
    "__A:__ *Yes, I’ve got several projects which are on the go ranging from starters for people doing their own project work and to debates. Starters would be something like I put an image or a picture of one of the scientists that I have mentioned which will challenge their perceptions of a scientist that they feel and what the scientist would actually look like. Projects dealing with how they will be given a particular person to research and lookup and then present whether their findings were they the real ones to discover it or not. Debates I found to be quite a good way to do it because I could arrange a debate about whether it was Al-Haythum who made all the ground-breaking discoveries or was it Snell or alternatively to look at the issue of William Harvey and ibn Nafis which is... where there is a lot of resources on that, em...*;\n",
    "\n",
    "__Q:__ *I know that you have produced quite a lot of materials and resources that are going to be included in the schemes of work at your school but can you give us examples of the things that you have been doing?*;\n",
    "\n",
    "__A:__ *Yes, the light module, for example, has a lot of stuff now about ibn Al-Haythum who did the Sin i and Sin r and the angle of reflection, magnetism has a big chunk by the Chinese contributions to be the first compass that they invented and the concept of friction which Avempace, an Arab scientist, made lots of headway on that topic.*;\n",
    "\n",
    "__Q:__ *Good, do you are already beginning to get stuff into your schemes of work?*;\n",
    "\n",
    "__A:__ *Yes.*;\n",
    "\n",
    "__Q:__ *But I also know that you have talked to other teachers in your department and your own head of department. Can you just say a little bit more about that?*;\n",
    "\n",
    "__A:__ *Yes, I have spoken to the head of department and got a lot of support from her. She has been very supportive and other teachers have been happy to get involved and have offered to trial some of the material and give me feedback on how well it has gone.*;\n",
    "</td></tr></table><!--ENDTRANSCRIPT--><!--ENDMEDIACONTENT-->\n",
    "Discuss the extent to which you would like to include the global dimension in the work of your department. In the light of your discussion and the ideas from the Oxfordshire school, consider these questions.\n",
    "\n",
    "* \n",
    "Where in your schemes of work could you incorporate some of the activities you have seen in this unit? Could ‘global anecdotes’ be included, too? A starting point might be to refer to the discoveries described in the quiz in <a xmlns:str=\"http://exslt.org/strings\" href=\"\">Activity 2</a> at appropriate places in schemes of work."
   ]
  },
  {
   "cell_type": "markdown",
   "metadata": {},
   "source": [
    "* \n",
    "Would it be worth setting up a simple system to collect news of interesting and relevant contemporary developments in science? Could each ‘story’ be linked to a scheme of work?"
   ]
  },
  {
   "cell_type": "markdown",
   "metadata": {},
   "source": [
    "* \n",
    "What other opportunities exist for promoting the global dimension in science, for example, through display or student projects?\n",
    "\n"
   ]
  },
  {
   "cell_type": "markdown",
   "metadata": {},
   "source": [
    "As well as using resources like those in Section 3 ‘In the classroom’, you could try:\n",
    "\n",
    "* \n",
    "telling anecdotes – when studying light, you might mention that, 700 years ago, Quatb al-din from Iraq explained that rainbows are made when light rays are reflected and refracted by atmospheric water;"
   ]
  },
  {
   "cell_type": "markdown",
   "metadata": {},
   "source": [
    "* \n",
    "referring to news stories – about Nigeria's new satellite and about Brazilian researchers' claims that coffee makes sperm swim faster, both of which relate directly to the curriculum. Click the links below to view these articles."
   ]
  },
  {
   "cell_type": "markdown",
   "metadata": {},
   "source": [
    "Click \"view document\" to open 'Nigeria Satellite Takes Images of Nigeria, Liberia'."
   ]
  },
  {
   "cell_type": "markdown",
   "metadata": {},
   "source": [
    "---"
   ]
  },
  {
   "cell_type": "markdown",
   "metadata": {},
   "source": [
    "View document"
   ]
  },
  {
   "cell_type": "markdown",
   "metadata": {},
   "source": [
    "---"
   ]
  },
  {
   "cell_type": "markdown",
   "metadata": {},
   "source": [
    "Click \"view document\" to open 'Coffee makes sperm speed up'."
   ]
  },
  {
   "cell_type": "markdown",
   "metadata": {},
   "source": [
    "---"
   ]
  },
  {
   "cell_type": "markdown",
   "metadata": {},
   "source": [
    "View document"
   ]
  },
  {
   "cell_type": "markdown",
   "metadata": {},
   "source": [
    "---"
   ]
  },
  {
   "cell_type": "markdown",
   "metadata": {},
   "source": [
    "Some teachers incorporate anecdotes and add newspaper cuttings to schemes of work. This enables the global dimension to permeate science teaching and learning without being a time-consuming ‘add-on’."
   ]
  },
  {
   "cell_type": "markdown",
   "metadata": {},
   "source": [
    "---\n",
    "\n",
    "1.4.2 And finally\n",
    "In this unit you have looked at:\n",
    "\n",
    "* \n",
    "*why* the global dimension in science is so important;"
   ]
  },
  {
   "cell_type": "markdown",
   "metadata": {},
   "source": [
    "* \n",
    "*what* contributions have been made to science by ‘non-Western’ scientists;"
   ]
  },
  {
   "cell_type": "markdown",
   "metadata": {},
   "source": [
    "* \n",
    "*how* to deliver the curriculum so as to bring global science to life for students."
   ]
  },
  {
   "cell_type": "markdown",
   "metadata": {},
   "source": [
    "Many teachers have found that including the global dimension in science is exciting and motivating for both teacher and students – I hope that you do, too!\n"
   ]
  }
 ],
 "metadata": {
  "jupytext": {
   "cell_metadata_filter": "-all",
   "main_language": "python",
   "notebook_metadata_filter": "-all",
   "text_representation": {
    "extension": ".md",
    "format_name": "markdown"
   }
  }
 },
 "nbformat": 4,
 "nbformat_minor": 4
}
